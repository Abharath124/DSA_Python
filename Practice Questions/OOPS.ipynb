{
 "cells": [
  {
   "cell_type": "code",
   "execution_count": 2,
   "id": "f69c4e15-5c81-4067-b7e5-9a675a5a04b8",
   "metadata": {},
   "outputs": [
    {
     "name": "stdout",
     "output_type": "stream",
     "text": [
      "Name: Bharath\n",
      "ID: 0021U\n",
      "Age: 23\n",
      "=========================\n",
      "Name: Rakesh\n",
      "ID: 0021Z\n",
      "Age: 14\n",
      "=========================\n"
     ]
    }
   ],
   "source": [
    "class Employee:\n",
    "    def __init__(self,name,id,age):\n",
    "        self.name = name\n",
    "        self.id = id\n",
    "        self.age  = age \n",
    "    def display(self):\n",
    "        print(\"Name:\",self.name)\n",
    "        print(\"ID:\",self.id)\n",
    "        print(\"Age:\",self.age)\n",
    "# obj\n",
    "e1 = Employee('Bharath','0021U',23)\n",
    "# e1.e_data('Bharath','0021U',23)\n",
    "e1.display()\n",
    "print(\"=========================\")\n",
    "e2 = Employee('Rakesh','0021Z',14)P5\n",
    "e2.display()\n",
    "print(\"=========================\")"
   ]
  },
  {
   "cell_type": "code",
   "execution_count": 24,
   "id": "ce784754-bfe0-4bbc-aedb-b73cd777b090",
   "metadata": {},
   "outputs": [
    {
     "name": "stdout",
     "output_type": "stream",
     "text": [
      "==============================\n",
      "Name: German Shepherd\n",
      "Color: Gold-Brown\n",
      "Weight: 85 KG\n",
      "==============================\n",
      "Name: Bulldog\n",
      "Color: Black\n",
      "Weight: 65 KG\n",
      "==============================\n",
      "Name: Golden Retriver\n",
      "Color: Brown\n",
      "Weight: 75 KG\n",
      "==============================\n",
      "Name: Husky\n",
      "Color: Brown\n",
      "Weight: 75 KG\n",
      "==============================\n",
      "Total number of animals: 4\n",
      "==============================\n"
     ]
    }
   ],
   "source": [
    "class petAnimal:\n",
    "    total = 0\n",
    "    def __init__(self,name,color,weight):\n",
    "        self.name = name\n",
    "        self.color = color\n",
    "        self.weight = weight\n",
    "        petAnimal.total +=1\n",
    "        \n",
    "    def display(self):\n",
    "        print(\"Name:\",self.name)\n",
    "        print(\"Color:\",self.color)\n",
    "        print('Weight:',self.weight,\"KG\")\n",
    "        \n",
    "    @classmethod\n",
    "    def display_total_animals(cls):\n",
    "        print(\"Total number of animals:\", cls.total)\n",
    "\n",
    "print(\"==============================\")\n",
    "a1 = petAnimal(\"German Shepherd\",\"Gold-Brown\",85)\n",
    "a1.display()\n",
    "print(\"==============================\")\n",
    "a2 = petAnimal(\"Bulldog\",\"Black\",65)\n",
    "a2.display()\n",
    "print(\"==============================\")\n",
    "a3 = petAnimal(\"Golden Retriver\",\"Brown\",75)\n",
    "a3.display()\n",
    "print(\"==============================\")\n",
    "a4 = petAnimal(\"Husky\",\"Brown\",75)\n",
    "a4.display()\n",
    "print(\"==============================\")\n",
    "petAnimal.display_total_animals()\n",
    "print(\"==============================\")"
   ]
  },
  {
   "cell_type": "code",
   "execution_count": null,
   "id": "c73304d4-c65e-4260-a9af-1a0a9688b2e5",
   "metadata": {},
   "outputs": [],
   "source": []
  },
  {
   "cell_type": "code",
   "execution_count": null,
   "id": "7de3a19b-928b-4e9c-bb3e-cb0ff4f2f42a",
   "metadata": {},
   "outputs": [],
   "source": []
  },
  {
   "cell_type": "code",
   "execution_count": null,
   "id": "ec8d7446-125a-45ee-b1fb-279565738909",
   "metadata": {},
   "outputs": [],
   "source": []
  }
 ],
 "metadata": {
  "kernelspec": {
   "display_name": "Python 3 (ipykernel)",
   "language": "python",
   "name": "python3"
  },
  "language_info": {
   "codemirror_mode": {
    "name": "ipython",
    "version": 3
   },
   "file_extension": ".py",
   "mimetype": "text/x-python",
   "name": "python",
   "nbconvert_exporter": "python",
   "pygments_lexer": "ipython3",
   "version": "3.12.6"
  }
 },
 "nbformat": 4,
 "nbformat_minor": 5
}
