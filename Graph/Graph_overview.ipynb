{
 "cells": [
  {
   "cell_type": "markdown",
   "id": "620c7cd5-2bc5-45a7-b8a2-825b77f85aca",
   "metadata": {},
   "source": [
    "# Graph"
   ]
  },
  {
   "cell_type": "raw",
   "id": "a53c6a21-56eb-4761-a755-f4352a21f230",
   "metadata": {},
   "source": [
    "- non linear data structure\n",
    "- ordered set of vertcies\n",
    "Graph , g= {v,2}\n",
    "        v - vertices\n",
    "        e - edges\n",
    "\n",
    "\n"
   ]
  },
  {
   "cell_type": "raw",
   "id": "31996f14-df68-41fd-849d-b977eb75eba7",
   "metadata": {},
   "source": [
    "# weighted graph :\n",
    "    1) directed weighted graph:\n",
    "    2) undirected weighted graph:"
   ]
  },
  {
   "cell_type": "raw",
   "id": "2ea8894e-7e4b-477d-b7f3-de01c277af40",
   "metadata": {},
   "source": [
    "un-directed graph:\n",
    "      v1\n",
    "     / | \\\n",
    "   v2--v3--v6\n",
    "    \\  |  /\n",
    "      v4\n",
    "       |\n",
    "      v5\n",
    "\n",
    "vertex set : {v1 . v2 , v3 , v4, v5, v6}\n",
    "edge set : {e1,e2,e3,e4,e5,e6,e7,e8,e9}\n",
    "\n",
    "\n",
    "Directed:\n",
    "      v1\n",
    "     / | \\\n",
    "    v2→v3→v6\n",
    "    ↓  ↑  ↓\n",
    "    v4←v5\n"
   ]
  },
  {
   "cell_type": "raw",
   "id": "0ce3483e-79aa-4490-8578-02da7f19b7a4",
   "metadata": {},
   "source": [
    "Adjacebt vertex (neighbours):\n",
    " egLe1 = (v1,v2)\n",
    "\n",
    "degree of vertex :\n",
    "        Undirected degree = v1 = 2,{} \n",
    "        directed degree \n",
    "                two type:\n",
    "                     Two Types :\n",
    "                     in-degree v1:0\n",
    "                     out-degree v1:2,{e1,e2}"
   ]
  },
  {
   "cell_type": "raw",
   "id": "8f4379b4-e4de-4e9e-bff7-c20ab575cdd9",
   "metadata": {},
   "source": [
    "Isolated vertex :\n",
    "    if degree is 0 means that is isolated vertex\n",
    "    source :\n",
    "        if in-degree is zero,\n",
    "        out-degree is greater than zero.\n",
    "    path:\n",
    "        1) closed path:\n",
    "                v1-->v2-->v4-->v6\n",
    "                v1-->v3-->v5-->v6\n",
    "                if ended same vertices that is closed path\n",
    "        2) simpled path :\n",
    "            Distinct end path\n",
    "\n",
    "    Cycle:\n",
    "        Source , destination same\n",
    "\n",
    "    Loop :\n",
    "        if edges has same end point"
   ]
  },
  {
   "cell_type": "raw",
   "id": "c2fbda24-a59b-4046-a4ec-d4e274ec7f07",
   "metadata": {},
   "source": [
    "Represenation of graph :\n",
    "Array : (2d array)\n",
    "    using adjacency matrux\n",
    "    using incidence matrix\n",
    "Linked List:\n",
    "    using adjacency list\n",
    "    using sdjacency multi-lists"
   ]
  },
  {
   "cell_type": "code",
   "execution_count": null,
   "id": "76e37de3-4bf0-450a-9d11-a6ce608a89e3",
   "metadata": {},
   "outputs": [],
   "source": []
  }
 ],
 "metadata": {
  "kernelspec": {
   "display_name": "Python 3 (ipykernel)",
   "language": "python",
   "name": "python3"
  },
  "language_info": {
   "codemirror_mode": {
    "name": "ipython",
    "version": 3
   },
   "file_extension": ".py",
   "mimetype": "text/x-python",
   "name": "python",
   "nbconvert_exporter": "python",
   "pygments_lexer": "ipython3",
   "version": "3.12.6"
  }
 },
 "nbformat": 4,
 "nbformat_minor": 5
}
