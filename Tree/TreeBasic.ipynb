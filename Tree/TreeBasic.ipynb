{
 "cells": [
  {
   "cell_type": "raw",
   "id": "33dc1340-55e6-4e7e-b6a4-ff326869865b",
   "metadata": {},
   "source": [
    "Tree Travel techniques\n",
    "  Tree Travel\n",
    "\n",
    "1) Depth First Search (DFS) :\n",
    "    in-order\n",
    "    pre-Order\n",
    "\n",
    "    Post-order\n",
    "2) Breadth First Search (BFS):\n",
    "    Level order"
   ]
  },
  {
   "cell_type": "raw",
   "id": "162f44cc-a695-466e-a015-2fed0812163e",
   "metadata": {},
   "source": [
    "               1             ← Root (depth = 0)\n",
    "             /   \\\n",
    "           2       3         ← depth = 1\n",
    "         /   \\       \\\n",
    "        4     5       6      ← depth = 2\n",
    "             /\n",
    "            7              ← depth = 3\n",
    "\n",
    "----------------------------------------------------------------------------------------------------------------------------------------------------------\n",
    "                A (depth=0, height=3)\n",
    "               / \\\n",
    "         B (1,2)  C (1,1)\n",
    "            / \\     \\\n",
    "       D (2,1) E (2,0) F (2,0)\n",
    "           |\n",
    "       G (3,0)\n"
   ]
  },
  {
   "cell_type": "raw",
   "id": "b06fecd6-7a2d-4a86-9691-8db0f8e5e5bb",
   "metadata": {},
   "source": [
    "Types of Trees:\n",
    "\n",
    "1. General Tree\n",
    "Each node can have any number of children.\n",
    "        A\n",
    "      / | \\\n",
    "     B  C  D\n",
    "        |\n",
    "        E\n",
    "----------------------------------------------------------------------------------------------------------------------------------------------------------\n",
    "2. Binary Tree\n",
    "Each node has at most 2 children.\n",
    "      A\n",
    "     / \\\n",
    "    B   C\n",
    "----------------------------------------------------------------------------------------------------------------------------------------------------------\n",
    "3. Full Binary Tree\n",
    "Every node has 0 or 2 children (no node has just one).\n",
    "      A\n",
    "     / \\\n",
    "    B   C\n",
    "   / \\ / \\\n",
    "  D  E F  G\n",
    "----------------------------------------------------------------------------------------------------------------------------------------------------------\n",
    "4. Perfect Binary Tree\n",
    "All internal nodes have 2 children, and all leaf nodes are at the same level.\n",
    "\n",
    "      A\n",
    "     / \\\n",
    "    B   C\n",
    "   / \\ / \\\n",
    "  D  E F  G\n",
    "----------------------------------------------------------------------------------------------------------------------------------------------------------\n",
    "5. Complete Binary Tree\n",
    "All levels are filled, except the last level, which is filled from left to right.\n",
    "      A\n",
    "     / \\\n",
    "    B   C\n",
    "   / \\  /\n",
    "  D  E F\n",
    "----------------------------------------------------------------------------------------------------------------------------------------------------------\n",
    "6. Balanced Binary Tree\n",
    "The height difference between left and right subtrees of any node is at most 1.\n",
    "      A\n",
    "     / \\\n",
    "    B   C\n",
    "   /     \\\n",
    "  D       E\n",
    "----------------------------------------------------------------------------------------------------------------------------------------------------------\n",
    "7. Skewed Tree (Degenerate Tree)\n",
    "Example: Right Skewed \n",
    "A                                              \n",
    " \\  \n",
    "  B  \n",
    "   \\  \n",
    "    C  \n",
    "     \\  \n",
    "      D \n",
    "\n",
    "Or: Left Skewed\n",
    "      A  \n",
    "     /  \n",
    "    B  \n",
    "   /  \n",
    "  C  \n",
    " /  \n",
    "D  \n",
    "----------------------------------------------------------------------------------------------------------------------------------------------------------\n",
    "8.Binary Search Tree (BST)\n",
    "Left < Root < Right\n",
    "\n",
    "      50\n",
    "     /  \\\n",
    "   30    70\n",
    "  / \\    / \\\n",
    "20  40  60  80\n",
    "----------------------------------------------------------------------------------------------------------------------------------------------------------"
   ]
  },
  {
   "cell_type": "raw",
   "id": "93d04545-7669-4820-9f53-9f3f4054c7c7",
   "metadata": {},
   "source": [
    "Tree Travel techniques\n",
    "  Tree Travel\n",
    "\n",
    "1) Depth First Search (DFS) :\n",
    "    in-order\n",
    "    pre-Order\n",
    "    Post-order\n",
    "2) Breadth First Search (BFS):\n",
    "    Level order"
   ]
  },
  {
   "cell_type": "markdown",
   "id": "ba685e57-2f68-47f8-acea-4b81d0f11705",
   "metadata": {},
   "source": [
    "Explanation "
   ]
  },
  {
   "cell_type": "raw",
   "id": "af375bce-6c90-46a1-aa7f-9904f8bd07a5",
   "metadata": {},
   "source": [
    "Binary tree traversal is a procedural by which each node in the tree is processed exactly once in a systematic manner."
   ]
  },
  {
   "cell_type": "markdown",
   "id": "bb977520-63dd-4bcc-bbc2-d090389d039d",
   "metadata": {},
   "source": [
    "# Pre Order traversal "
   ]
  },
  {
   "cell_type": "raw",
   "id": "918406d5-8cd1-4b51-998c-1dfe4548b86e",
   "metadata": {},
   "source": [
    "key idea:\n",
    "==================================\n",
    "visit the root \n",
    "Traverse the left subtree i.e : call\n",
    "    preorder (left subtree)\n",
    "Traverse the right subtree i.e:call\n",
    "    preorder (right subtree)\n",
    "\n",
    "root -> left -> Right\n",
    "\n",
    "\n",
    "Pre Order Traversal :  A B D E C F G "
   ]
  },
  {
   "cell_type": "markdown",
   "id": "6f261e8a-4fa0-4b46-bced-333c2e31c1ea",
   "metadata": {},
   "source": [
    "# In Order Traversal"
   ]
  },
  {
   "cell_type": "raw",
   "id": "bc317538-ebf3-4f24-8174-67e3c1f2a917",
   "metadata": {},
   "source": [
    "Key Idea\n",
    "==============================\n",
    "-->Traverse the left subtree i.e : call\n",
    "-->visit the root\n",
    "-->Traverse the right subtree i.e:call\n",
    "left ----> Root ----> Right\n",
    "\n",
    "        4\n",
    "       / \\\n",
    "      2   6\n",
    "     / \\ / \\\n",
    "    1  3 5  7\n",
    "\n",
    "1 2 3 4 5 6 7\n"
   ]
  },
  {
   "cell_type": "markdown",
   "id": "bb846c4a-efb0-42d8-9a19-ec1432e3475c",
   "metadata": {},
   "source": [
    "# POSTORDER Traversal"
   ]
  },
  {
   "cell_type": "raw",
   "id": "7a280169-bcf2-44ad-a6cb-81156933d5f6",
   "metadata": {},
   "source": [
    "-----------------------------\n",
    "key idea:\n",
    "-->Traverse the left subtree i.e : call\n",
    "    preorder (left subtree)\n",
    "-->Traverse the right subtree i.e:call\n",
    "     preorder (right subtree)\n",
    "--> visit the root\n",
    "Left ---> Right ---> Root\n",
    "\n",
    "        4\n",
    "       / \\\n",
    "      2   6\n",
    "     / \\ / \\\n",
    "    1  3 5  7\n",
    "1 3 2 5 7 6 4\n"
   ]
  },
  {
   "cell_type": "markdown",
   "id": "5a55a627-8879-44a1-9d18-a2d4ee6a6fca",
   "metadata": {},
   "source": [
    "# CODE"
   ]
  },
  {
   "cell_type": "code",
   "execution_count": 6,
   "id": "b1587f7e-3b0a-4151-af79-a745ce80af1d",
   "metadata": {},
   "outputs": [
    {
     "ename": "SyntaxError",
     "evalue": "invalid syntax (1129671478.py, line 69)",
     "output_type": "error",
     "traceback": [
      "\u001b[1;36m  Cell \u001b[1;32mIn[6], line 69\u001b[1;36m\u001b[0m\n\u001b[1;33m    is curNode.right:\u001b[0m\n\u001b[1;37m    ^\u001b[0m\n\u001b[1;31mSyntaxError\u001b[0m\u001b[1;31m:\u001b[0m invalid syntax\n"
     ]
    }
   ],
   "source": [
    "class Stack:\n",
    "    def __init__(self):\n",
    "        self.items = []\n",
    "    def isempty(self):\n",
    "        return len(self.items) == 0\n",
    "    def push(self,item):\n",
    "        self.items.append(item)\n",
    "    def pop(self):\n",
    "        if not self.isempty():\n",
    "            return self.items.pop()\n",
    "        return None\n",
    "    def peek(self):\n",
    "        if not self.isempty():\n",
    "            return self.items[-1]\n",
    "        return None\n",
    "class TreeNode:\n",
    "    def __init__(self,Newdata = None , lchild=None,rchild=None):\n",
    "        self.left = lchild\n",
    "        self.data = Newdata\n",
    "        self.right = rchild\n",
    "\n",
    "class BST:\n",
    "        def __init__(self):\n",
    "            self.root = None\n",
    "        def insert(self,newData):\n",
    "            newNode = TreeNode(newData)\n",
    "            if self.root is None:\n",
    "                self.root = newNode\n",
    "            else:\n",
    "                curNode = self.root\n",
    "                parentNode = None\n",
    "                while curNode is not None:\n",
    "                    parentNode = curNode\n",
    "                    if newData < curNode.data:\n",
    "                        curNode = curNode.left\n",
    "                    else:\n",
    "                        curNode = cirNode.right\n",
    "            if newData < parentNode.data:\n",
    "                parentNode.left = newNode\n",
    "            else:\n",
    "                parentNode.right = newNode\n",
    "        def preorder(Self):\n",
    "            st = Stack()\n",
    "            curNode = self.reeot\n",
    "            while curNode is not None:\n",
    "                print(curNode.data,end=' ')\n",
    "                if curNode.right:\n",
    "                    st.push(curNode.right)\n",
    "                curNode = curNode.left\n",
    "                if curNode is None and not st.isempty():\n",
    "                    curNode - st.pop()\n",
    "        def inorder(self):\n",
    "            st = Stack()\n",
    "            curNode = self.root\n",
    "            while curNode is not None or not st.isempty():\n",
    "                while curNode is not None:\n",
    "                    st.push(curNode)\n",
    "                    curNode = curNode.left\n",
    "                curNode = st.pop()\n",
    "                print(curNode.data,end=' ')\n",
    "                curNode = curNode.right\n",
    "        def postorder(Self):\n",
    "            set = Stack()\n",
    "            curNode = self.root\n",
    "            if curNode is None:\n",
    "                return\n",
    "            while True:\n",
    "                while curNode is not None:\n",
    "                    is curNode.right:\n",
    "                    st.push(curNode.right)\n",
    "                st.push(curNode)\n",
    "                curNode = curNode.left\n",
    "            curNode = st.pop()\n",
    "            if curNode.right and st.peek() == curNode.right:\n",
    "                st.pop()\n",
    "                st.push(curNode)\n",
    "                curNode = curNode.right\n",
    "            else:\n",
    "                print(curNode.data,end=' ')\n",
    "                curNode = None\n",
    "            if st.isempty():\n",
    "                break"
   ]
  },
  {
   "cell_type": "code",
   "execution_count": null,
   "id": "fa9444bb-fa58-4d38-8c47-da06245603c1",
   "metadata": {},
   "outputs": [],
   "source": []
  }
 ],
 "metadata": {
  "kernelspec": {
   "display_name": "Python 3 (ipykernel)",
   "language": "python",
   "name": "python3"
  },
  "language_info": {
   "codemirror_mode": {
    "name": "ipython",
    "version": 3
   },
   "file_extension": ".py",
   "mimetype": "text/x-python",
   "name": "python",
   "nbconvert_exporter": "python",
   "pygments_lexer": "ipython3",
   "version": "3.12.6"
  }
 },
 "nbformat": 4,
 "nbformat_minor": 5
}
