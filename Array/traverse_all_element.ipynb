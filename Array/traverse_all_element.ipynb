{
 "cells": [
  {
   "cell_type": "code",
   "execution_count": 1,
   "id": "59fdf7dd-0ef7-4a13-b64c-e308630a902d",
   "metadata": {},
   "outputs": [
    {
     "name": "stdout",
     "output_type": "stream",
     "text": [
      "15\n"
     ]
    }
   ],
   "source": [
    "x = [\n",
    "    [11, 12, 13],\n",
    "    [14, 15, 16],\n",
    "    [17, 18, 19]\n",
    "]\n",
    "# Access of element of 2d rray\n",
    "op = x[1][1]  \n"
   ]
  },
  {
   "cell_type": "code",
   "execution_count": 3,
   "id": "1e98fb0a-6e9c-4a9d-bb76-f7f22908f3f7",
   "metadata": {},
   "outputs": [
    {
     "name": "stdout",
     "output_type": "stream",
     "text": [
      "11 12 13 \n",
      "14 15 16 \n",
      "17 18 19 \n"
     ]
    }
   ],
   "source": [
    "##traverse all element\n",
    "for i in x: #row\n",
    "    for j in i:  #i th row traversla of jth column\n",
    "        print(j,end = ' ')\n",
    "    print()"
   ]
  },
  {
   "cell_type": "code",
   "execution_count": null,
   "id": "d3d4afd4-f9e5-4199-9f61-f53d47724bf1",
   "metadata": {},
   "outputs": [],
   "source": []
  },
  {
   "cell_type": "code",
   "execution_count": 21,
   "id": "740c9252-5c2c-4161-9107-5c81e5f763e0",
   "metadata": {},
   "outputs": [
    {
     "name": "stdout",
     "output_type": "stream",
     "text": [
      "22 24 26 \n",
      "28 30 32 \n",
      "34 36 38 \n"
     ]
    }
   ],
   "source": [
    "# Accesss two metrics array\n",
    "x1 = [\n",
    "    [11, 12, 13],\n",
    "    [14, 15, 16],\n",
    "    [17, 18, 19]\n",
    "]\n",
    "x2 = [\n",
    "    [11, 12, 13],\n",
    "    [14, 15, 16],\n",
    "    [17, 18, 19]\n",
    "]\n",
    "\n",
    "# Access of element of 2d rray\n",
    "result = []\n",
    "\n",
    "# matric addition\n",
    "for i in range(len(x1)):\n",
    "    row = []\n",
    "    for j in range(len(x1[0])):\n",
    "        row.append(x1[i][j]+x2[i][j])\n",
    "    result.append(row)\n",
    "    \n",
    "# print Output\n",
    "for i in result:\n",
    "    for j in i:\n",
    "        print(j,end=' ')\n",
    "    print()"
   ]
  },
  {
   "cell_type": "markdown",
   "id": "1ca1c873-79db-4e53-b414-17d03c6b5bac",
   "metadata": {},
   "source": [
    "# Using Numpy"
   ]
  },
  {
   "cell_type": "code",
   "execution_count": null,
   "id": "d88f049f-420d-449f-a8bf-13b170fa1f85",
   "metadata": {},
   "outputs": [],
   "source": [
    "import numpy as np\n",
    "x1 = np.array([\n",
    "    [11, 12, 13],\n",
    "    [14, 15, 16],\n",
    "    [17, 18, 19]\n",
    "])\n",
    "x2 = np.array([\n",
    "    [11, 12, 13],\n",
    "    [14, 15, 16],\n",
    "    [17, 18, 19]\n",
    "])\n",
    "print(\"New Array\")\n",
    "print(x1+x2)''"
   ]
  }
 ],
 "metadata": {
  "kernelspec": {
   "display_name": "Python 3 (ipykernel)",
   "language": "python",
   "name": "python3"
  },
  "language_info": {
   "codemirror_mode": {
    "name": "ipython",
    "version": 3
   },
   "file_extension": ".py",
   "mimetype": "text/x-python",
   "name": "python",
   "nbconvert_exporter": "python",
   "pygments_lexer": "ipython3",
   "version": "3.12.6"
  }
 },
 "nbformat": 4,
 "nbformat_minor": 5
}
