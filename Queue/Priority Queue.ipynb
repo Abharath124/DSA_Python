{
 "cells": [
  {
   "cell_type": "raw",
   "id": "9ad988cf-64fe-40ec-9a93-a472294de60b",
   "metadata": {},
   "source": [
    "| Task | Priority | Min-Priority | Max-Priority |\n",
    "|------|----------|--------------|--------------|\n",
    "| A    | 5        | E            | D            |\n",
    "| B    | 8        | C            | B            |\n",
    "| C    | 3        | A            | A            |\n",
    "| D    | 9        | B            | C            |\n",
    "| E    | 1        | D            | E            |\n"
   ]
  },
  {
   "cell_type": "markdown",
   "id": "d8d44cd4-1e91-486d-9117-cd603ac3b604",
   "metadata": {},
   "source": [
    "# CODE"
   ]
  },
  {
   "cell_type": "code",
   "execution_count": 22,
   "id": "51240e72-5868-4403-83de-0fbb50ae0f87",
   "metadata": {},
   "outputs": [
    {
     "name": "stdout",
     "output_type": "stream",
     "text": [
      "Choose the option\n",
      "1.enqueue\n",
      "2.dequeue\n",
      "3.peek\n",
      "4.Display\n",
      "5.Exit\n"
     ]
    },
    {
     "name": "stdin",
     "output_type": "stream",
     "text": [
      "Enter your choice: 1\n",
      "Enter a data: 12\n",
      "Enter the priority value: 12\n"
     ]
    },
    {
     "name": "stdout",
     "output_type": "stream",
     "text": [
      "Choose the option\n",
      "1.enqueue\n",
      "2.dequeue\n",
      "3.peek\n",
      "4.Display\n",
      "5.Exit\n"
     ]
    },
    {
     "name": "stdin",
     "output_type": "stream",
     "text": [
      "Enter your choice: 4\n"
     ]
    },
    {
     "name": "stdout",
     "output_type": "stream",
     "text": [
      "Queue is empty\n",
      "Choose the option\n",
      "1.enqueue\n",
      "2.dequeue\n",
      "3.peek\n",
      "4.Display\n",
      "5.Exit\n"
     ]
    },
    {
     "name": "stdin",
     "output_type": "stream",
     "text": [
      "Enter your choice: 5\n"
     ]
    },
    {
     "name": "stdout",
     "output_type": "stream",
     "text": [
      "Exit the Queue...\n"
     ]
    }
   ],
   "source": [
    "class Node:\n",
    "    def __init__(self,NewData , NewPriority):\n",
    "        self.data = NewData\n",
    "        self.priority =NewPriority\n",
    "class PriorityQueue:\n",
    "    def __init__(self):\n",
    "        self.items = []\n",
    "\n",
    "\n",
    "    def isempty(self):\n",
    "        return self.items == []\n",
    "\n",
    "    def enqueue(self,item):\n",
    "        # Find the approriate position based on priority and insert it \n",
    "        for i in range(len(self.items)):\n",
    "            if item.priority >= self.items[i].priority:\n",
    "                self.items.insert(i,item)\n",
    "                break\n",
    "            else:\n",
    "                #If item has lowest priority, append it at the end\n",
    "                self.item.append(item)\n",
    "    def dequeue(self):\n",
    "        #Pop the item with the higest priority (front of the queue)\n",
    "        if not self.isempty():\n",
    "            return self.items.pop(0)  #pop the item at the frint the queue\n",
    "\n",
    "    def peek(self):\n",
    "        #Return the item with the highest priority (Front of the queue)\n",
    "        if not self.isempty():\n",
    "            return self.items[0] #Peek the front item\n",
    "            \n",
    "    def size(self):\n",
    "        return len(self.items)\n",
    "        \n",
    "    def display(self):\n",
    "        for item in self.items:\n",
    "            print('|' , format(str(item.data) + \"(\" + str(item.priority) + \")\" , '>6') ,end=' ')\n",
    "        print(\"|\")        \n",
    "q = PriorityQueue()\n",
    "while(1):\n",
    "    print(\"Choose the option\")\n",
    "    print(\"1.enqueue\")\n",
    "    print(\"2.dequeue\")\n",
    "    print(\"3.peek\")\n",
    "    print(\"4.Display\")\n",
    "    print(\"5.Exit\")\n",
    "\n",
    "    choice = int(input(\"Enter your choice:\"))\n",
    "    if choice == 1:\n",
    "        num = int(input(\"Enter a data:\"))\n",
    "        prio = int(input(\"Enter the priority value:\"))\n",
    "        newNode = Node(num , prio)\n",
    "        q.enqueue(newNode)\n",
    "    elif choice == 2:\n",
    "         if q.isempty():\n",
    "             print(\"Queue is overflow\")\n",
    "         else:\n",
    "             popNode = q.dequeue()\n",
    "             print(\"Item dequeued\" , popNode.data , \"With priority\",popNode.priority)\n",
    "    elif choice == 3:\n",
    "         if q.isempty():\n",
    "             print(\"Queue Underflow\")\n",
    "         else:\n",
    "             popNode = q.peek()\n",
    "             print(\"Item at the front of the queue\" , popNode.data,\"with priority\",popNode.priority)\n",
    "    elif choice == 4:\n",
    "         if q.isempty():\n",
    "             print(\"Queue is empty\")\n",
    "         else:\n",
    "             q.display()\n",
    "    else:\n",
    "        print(\"Exit the Queue...\")\n",
    "        break\n"
   ]
  },
  {
   "cell_type": "code",
   "execution_count": null,
   "id": "ac8edfca-9628-480d-b5b5-1689dad406e4",
   "metadata": {},
   "outputs": [],
   "source": []
  }
 ],
 "metadata": {
  "kernelspec": {
   "display_name": "Python 3 (ipykernel)",
   "language": "python",
   "name": "python3"
  },
  "language_info": {
   "codemirror_mode": {
    "name": "ipython",
    "version": 3
   },
   "file_extension": ".py",
   "mimetype": "text/x-python",
   "name": "python",
   "nbconvert_exporter": "python",
   "pygments_lexer": "ipython3",
   "version": "3.12.6"
  }
 },
 "nbformat": 4,
 "nbformat_minor": 5
}
