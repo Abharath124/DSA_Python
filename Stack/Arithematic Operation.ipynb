{
 "cells": [
  {
   "cell_type": "raw",
   "id": "9ba34c57-aa94-44d6-a1d6-79f8bfe323a2",
   "metadata": {},
   "source": [
    "PREFIX : polish notation\n",
    "the operator preceds the operands eg: +A*BC\n",
    "Order of evaluation : right to left\n",
    "No parenthesis is required"
   ]
  },
  {
   "cell_type": "raw",
   "id": "e3bee8ad-ff93-43b4-94b4-a5f7e9f26b6b",
   "metadata": {},
   "source": [
    "Exercise:INFIX-----> A+B*C-D\n",
    "Prefix Evaluation:\n",
    "    Step1: A+[*BC]-D\n",
    "    Step2: [+A*BC]-D\n",
    "    Step3: -[+A*BC]D\n",
    "result ---> -+A*BCD"
   ]
  },
  {
   "cell_type": "raw",
   "id": "5ad709e7-398b-4bb2-9ff3-ac6d6a0e88c0",
   "metadata": {},
   "source": [
    "POSTFIX EVALUATION:\n",
    "STEP1:A+[BC*]-D\n",
    "STEP2: [ABC*+]-D\n",
    "STEP3: ABC*+D-\n",
    "RESULT ----> ABC*+D-"
   ]
  },
  {
   "cell_type": "raw",
   "id": "8bdba9cb-85ef-4d3b-9327-cec7c923e068",
   "metadata": {},
   "source": [
    "EXERCISE2 : A+(B-C*D)/E"
   ]
  },
  {
   "cell_type": "raw",
   "id": "526f271a-d552-499d-b881-a3a65d7a9efe",
   "metadata": {},
   "source": [
    "|-------------------------------------------------------------------|\n",
    "|scan_character     stack          Target_string                    |\n",
    "|-------------------------------------------------------------------|\n",
    "|A                     +                A                           |\n",
    "|+                     +(               A                           |\n",
    "|(                     +(               A                           |\n",
    "|B                     +(               AB                          | \n",
    "|-                     +(-              AB                          |\n",
    "|C                     +(-              ABC                         |\n",
    "|*                      +(-*            ABC                         |\n",
    "|D                      +(-*            ABCD                        |\n",
    "|)                      +               ABCD*-                      |\n",
    "|/                      +/              ABCD*-                      |\n",
    "|E                      +/             ABCDE*-E                     |\n",
    "|End of String ----------------------> ABCD*-E/+                    |\n",
    "|result postfix---------->ABCD*-E/+                                 |\n",
    "|-------------------------------------------------------------------|"
   ]
  },
  {
   "cell_type": "markdown",
   "id": "c962af03-4525-425e-bc55-07b4a96ebee6",
   "metadata": {},
   "source": [
    " # CODE"
   ]
  },
  {
   "cell_type": "code",
   "execution_count": 33,
   "id": "580d65cf-2f23-4a5d-825d-128e880ca437",
   "metadata": {},
   "outputs": [
    {
     "name": "stdin",
     "output_type": "stream",
     "text": [
      "Enter an infix expression: 1\n"
     ]
    },
    {
     "ename": "NameError",
     "evalue": "name 'Stack' is not defined",
     "output_type": "error",
     "traceback": [
      "\u001b[1;31m---------------------------------------------------------------------------\u001b[0m",
      "\u001b[1;31mNameError\u001b[0m                                 Traceback (most recent call last)",
      "Cell \u001b[1;32mIn[33], line 26\u001b[0m\n\u001b[0;32m     24\u001b[0m         \u001b[38;5;28;01mreturn\u001b[39;00m \u001b[38;5;241m0\u001b[39m\n\u001b[0;32m     25\u001b[0m infix_exp \u001b[38;5;241m=\u001b[39m \u001b[38;5;28minput\u001b[39m(\u001b[38;5;124m\"\u001b[39m\u001b[38;5;124mEnter an infix expression:\u001b[39m\u001b[38;5;124m\"\u001b[39m)\n\u001b[1;32m---> 26\u001b[0m postfix \u001b[38;5;241m=\u001b[39m \u001b[43minfix_to_postfix\u001b[49m\u001b[43m(\u001b[49m\u001b[43minfix_exp\u001b[49m\u001b[43m)\u001b[49m\n\u001b[0;32m     27\u001b[0m \u001b[38;5;28mprint\u001b[39m(\u001b[38;5;124m\"\u001b[39m\u001b[38;5;124mThe equivalent postfix expression is:\u001b[39m\u001b[38;5;124m\"\u001b[39m)\n\u001b[0;32m     28\u001b[0m \u001b[38;5;28mprint\u001b[39m(postfix)\n",
      "Cell \u001b[1;32mIn[33], line 3\u001b[0m, in \u001b[0;36minfix_to_postfix\u001b[1;34m(source)\u001b[0m\n\u001b[0;32m      1\u001b[0m \u001b[38;5;28;01mdef\u001b[39;00m \u001b[38;5;21minfix_to_postfix\u001b[39m(source):\n\u001b[0;32m      2\u001b[0m     target \u001b[38;5;241m=\u001b[39m \u001b[38;5;124m\"\u001b[39m\u001b[38;5;124m \u001b[39m\u001b[38;5;124m\"\u001b[39m\n\u001b[1;32m----> 3\u001b[0m     st \u001b[38;5;241m=\u001b[39m \u001b[43mStack\u001b[49m()\n\u001b[0;32m      4\u001b[0m     \u001b[38;5;28;01mfor\u001b[39;00m ch \u001b[38;5;129;01min\u001b[39;00m source:\n\u001b[0;32m      5\u001b[0m         \u001b[38;5;28;01mif\u001b[39;00m ch \u001b[38;5;241m==\u001b[39m \u001b[38;5;124m\"\u001b[39m\u001b[38;5;124m(\u001b[39m\u001b[38;5;124m\"\u001b[39m:\n",
      "\u001b[1;31mNameError\u001b[0m: name 'Stack' is not defined"
     ]
    }
   ],
   "source": [
    "\n",
    "def infix_to_postfix(source):\n",
    "    target = \" \"\n",
    "    st = Stack()\n",
    "    for ch in source:\n",
    "        if ch == \"(\":\n",
    "            st.push(ch)\n",
    "        elif ch == \")\":\n",
    "            while (not st.isempty() and st.peek() != '('):\n",
    "                targer+=st.pop()\n",
    "            st.pop()\n",
    "        elif ch.isdigit() or ch.isalpha():\n",
    "            target+=ch\n",
    "        elif ch =='+' or ch == '*' or ch == '/' or ch == '%':\n",
    "            while (not st.isempty() and st.peek()!='(' and getPriority(st.peek()) >= getPriority(ch)):\n",
    "                target+=st.pop()\n",
    "            st.push(ch)\n",
    "        while(not st.isempty()):\n",
    "            target += st.pop()\n",
    "        return target\n",
    "def getPriority(por):\n",
    "    if(opr == '*' or opr == '/' or opr == '%'):\n",
    "        return 1\n",
    "    else:\n",
    "        return 0\n",
    "infix_exp = input(\"Enter an infix expression:\")\n",
    "postfix = infix_to_postfix(infix_exp)\n",
    "print(\"The equivalent postfix expression is:\")\n",
    "print(postfix)"
   ]
  },
  {
   "cell_type": "code",
   "execution_count": 37,
   "id": "1657271c-978f-4219-85d8-0da2fb9b19ec",
   "metadata": {},
   "outputs": [
    {
     "name": "stdin",
     "output_type": "stream",
     "text": [
      "Enter an infix expression: A+(B-C*D)/E\n"
     ]
    },
    {
     "name": "stdout",
     "output_type": "stream",
     "text": [
      "The equivalent postfix expression is:\n",
      " A\n"
     ]
    }
   ],
   "source": [
    "class Node:\n",
    "    def __init__(self, NewData , link):\n",
    "        self.data = NewData\n",
    "        self.next = link\n",
    "\n",
    "class Stack:\n",
    "    def __init__(self):\n",
    "        self.top = None\n",
    "\n",
    "    def isempty(self):\n",
    "        return self.top is None\n",
    "\n",
    "    def peek(self):\n",
    "        if self.isempty():\n",
    "            return \"Stack is empty\"\n",
    "        return self.top.data\n",
    "\n",
    "    def pop(self):\n",
    "        if self.isempty():\n",
    "            return \"Stack Underflow\"\n",
    "        node = self.top\n",
    "        self.top = self.top.next\n",
    "        return node.data \n",
    "        \n",
    "    def push(self, NewData): \n",
    "        self.top = Node(NewData, self.top) \n",
    "    \n",
    " \n",
    "def infix_to_postfix(source):\n",
    "    target = \" \"\n",
    "    st = Stack()\n",
    "    for ch in source:\n",
    "        if ch == \"(\":\n",
    "            st.push(ch)\n",
    "        elif ch == \")\":\n",
    "            while (not st.isempty() and st.peek() != '('):\n",
    "                targer+=st.pop()\n",
    "            st.pop()\n",
    "        elif ch.isdigit() or ch.isalpha():\n",
    "            target+=ch\n",
    "        elif ch =='+' or ch == '*' or ch == '/' or ch == '%':\n",
    "            while (not st.isempty() and st.peek()!='(' and getPriority(st.peek()) >= getPriority(ch)):\n",
    "                target+=st.pop()\n",
    "            st.push(ch)\n",
    "        while(not st.isempty()):\n",
    "            target += st.pop()\n",
    "        return target\n",
    "def getPriority(por):\n",
    "    if(opr == '*' or opr == '/' or opr == '%'):\n",
    "        return 1\n",
    "    else:\n",
    "        return 0\n",
    "infix_exp = input(\"Enter an infix expression:\")\n",
    "postfix = infix_to_postfix(infix_exp)\n",
    "print(\"The equivalent postfix expression is:\")\n",
    "print(postfix)   "
   ]
  },
  {
   "cell_type": "code",
   "execution_count": null,
   "id": "a60ddffe-f25c-41e7-8a7e-8d029f4fbf2a",
   "metadata": {},
   "outputs": [],
   "source": []
  },
  {
   "cell_type": "code",
   "execution_count": null,
   "id": "3e8425d6-3cff-439b-b752-2b546722b138",
   "metadata": {},
   "outputs": [],
   "source": []
  },
  {
   "cell_type": "code",
   "execution_count": null,
   "id": "7de09894-b475-4c30-928c-ee384164ee51",
   "metadata": {},
   "outputs": [],
   "source": []
  }
 ],
 "metadata": {
  "kernelspec": {
   "display_name": "Python 3 (ipykernel)",
   "language": "python",
   "name": "python3"
  },
  "language_info": {
   "codemirror_mode": {
    "name": "ipython",
    "version": 3
   },
   "file_extension": ".py",
   "mimetype": "text/x-python",
   "name": "python",
   "nbconvert_exporter": "python",
   "pygments_lexer": "ipython3",
   "version": "3.12.6"
  }
 },
 "nbformat": 4,
 "nbformat_minor": 5
}
