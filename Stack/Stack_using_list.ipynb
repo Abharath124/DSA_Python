{
 "cells": [
  {
   "cell_type": "markdown",
   "id": "a0d0f55c-3c96-4d9e-bcc0-7cb5f9a43eda",
   "metadata": {},
   "source": [
    "# Stack"
   ]
  },
  {
   "cell_type": "raw",
   "id": "5132bfa0-c480-4304-8a82-723a4eba88b0",
   "metadata": {},
   "source": [
    "-> Stacks are linear data strctures that follow thw last in First Out (LIFO) Principle\n",
    "-> The last item to be inserted into a stack is the first one to be deleted from it\n",
    "-> Both insertion and removal are allowed at only one end of stack called Top"
   ]
  },
  {
   "cell_type": "raw",
   "id": "fdda9446-0e40-4780-850c-def309081934",
   "metadata": {},
   "source": [
    "Real Time Example :- Bangles , \n",
    "                    Towe of Haonoi , etc."
   ]
  },
  {
   "cell_type": "raw",
   "id": "a9b40dba-f40f-4abd-b100-66fc488f80b3",
   "metadata": {},
   "source": [
    "Applications :-\n",
    " -> Parsing well formed parenthesis\n",
    " -> Expression conversion (infix to postfix, postfix to prefix)\n",
    " -> Expression evaluation\n",
    " -> Reversiong to string\n",
    " -> Decimal to binary conversion\n",
    " -> Storing function calls"
   ]
  },
  {
   "cell_type": "markdown",
   "id": "b2d0ae30-8cd4-4eab-b2fd-a50ccb479d66",
   "metadata": {},
   "source": [
    "# Code"
   ]
  },
  {
   "cell_type": "code",
   "execution_count": null,
   "id": "22c94161-eabf-4f99-afda-04328df84303",
   "metadata": {},
   "outputs": [],
   "source": [
    "class Stack:\n",
    "    def __init__(self):\n",
    "        #create an empty stack\n",
    "        self.items = []\n",
    "    def isempty(self):\n",
    "        return self.item == []\n",
    "    def push(self,items):\n",
    "        return self.item.append(items)\n",
    "    def pop(self):\n",
    "        if self.isempty():\n",
    "            print(\"Stack Unserflow!!\")\n",
    "            return None\n",
    "        return self.item.pop()\n",
    "    def peek(Self):\n",
    "        if self.isempty():\n",
    "            print(\"Stack is empty\")\n",
    "            return None\n",
    "        return self.items(len(self.items)-1)\n",
    "\n",
    "    def display(self):\n",
    "        if self.isempy():\n",
    "            print(\"Stack is empty\")\n",
    "            return None\n",
    "        print(\"Stack Element (from top to bottom) :\")\n",
    "        top = len(self.items)-1\n",
    "        for i in range(top-1,-1,-1):\n",
    "            print(self.items[i])\n",
    "\n",
    "s = Stack()\n",
    "while(True):\n",
    "    print(\"Program to implement stack using list\")\n",
    "    print(\"1.push\")\n",
    "    print(\"2.pop\")\n",
    "    print(\"3.Peek\")\n",
    "    print(\"3.Display\")\n",
    "    print(\"5.Exit\")\n",
    "    choice = int(input(\"Enter the choice:\"))\n",
    "    if choice == 1:\n",
    "        num = int(input(\"Enter the data:\"))\n",
    "        s.push(num)\n",
    "    elif choice == 2:\n",
    "        num = s.pop()\n",
    "        print(\"POP elements\",num)\n",
    "    elif choice == 3:\n",
    "        num = s.peek()\n",
    "        print(\"Peek elemets\",num)\n",
    "    elif choice == 4:\n",
    "        s.display()\n",
    "    elif choice == 5:\n",
    "        print(\"Exit..........\")\n",
    "        break\n",
    "    else:\n",
    "        print(\"Invalid Choice enter the correct option(1-5)\")\n",
    "        continue"
   ]
  },
  {
   "cell_type": "code",
   "execution_count": null,
   "id": "6263c9cb-6917-4455-92a1-04d6054caa6f",
   "metadata": {},
   "outputs": [],
   "source": [
    "# Q-1 reverse an element into the stack (0to n)\n",
    "# Q-2 sort the element in desinding order without using sort buil in function\n",
    "# Q-3 find the minimum element in the stack"
   ]
  }
 ],
 "metadata": {
  "kernelspec": {
   "display_name": "Python 3 (ipykernel)",
   "language": "python",
   "name": "python3"
  },
  "language_info": {
   "codemirror_mode": {
    "name": "ipython",
    "version": 3
   },
   "file_extension": ".py",
   "mimetype": "text/x-python",
   "name": "python",
   "nbconvert_exporter": "python",
   "pygments_lexer": "ipython3",
   "version": "3.12.6"
  }
 },
 "nbformat": 4,
 "nbformat_minor": 5
}
