{
 "cells": [
  {
   "cell_type": "code",
   "execution_count": 36,
   "id": "6fd9511d-47f7-45ae-aef5-16c7a7f7e9ad",
   "metadata": {},
   "outputs": [
    {
     "name": "stdout",
     "output_type": "stream",
     "text": [
      "Program to implement the stack using linked list\n",
      "1.Push\n",
      "2.pop\n",
      "3.peek\n",
      "4.Display\n",
      "5.Exit\n"
     ]
    },
    {
     "name": "stdin",
     "output_type": "stream",
     "text": [
      "Enter a number:  1\n",
      "Enter the data: 10\n"
     ]
    },
    {
     "name": "stdout",
     "output_type": "stream",
     "text": [
      "Program to implement the stack using linked list\n",
      "1.Push\n",
      "2.pop\n",
      "3.peek\n",
      "4.Display\n",
      "5.Exit\n"
     ]
    },
    {
     "name": "stdin",
     "output_type": "stream",
     "text": [
      "Enter a number:  1\n",
      "Enter the data: 20\n"
     ]
    },
    {
     "name": "stdout",
     "output_type": "stream",
     "text": [
      "Program to implement the stack using linked list\n",
      "1.Push\n",
      "2.pop\n",
      "3.peek\n",
      "4.Display\n",
      "5.Exit\n"
     ]
    },
    {
     "name": "stdin",
     "output_type": "stream",
     "text": [
      "Enter a number:  1\n",
      "Enter the data: 30\n"
     ]
    },
    {
     "name": "stdout",
     "output_type": "stream",
     "text": [
      "Program to implement the stack using linked list\n",
      "1.Push\n",
      "2.pop\n",
      "3.peek\n",
      "4.Display\n",
      "5.Exit\n"
     ]
    },
    {
     "name": "stdin",
     "output_type": "stream",
     "text": [
      "Enter a number:  4\n"
     ]
    },
    {
     "name": "stdout",
     "output_type": "stream",
     "text": [
      "30 -> 20 -> 10 -> None\n",
      "Program to implement the stack using linked list\n",
      "1.Push\n",
      "2.pop\n",
      "3.peek\n",
      "4.Display\n",
      "5.Exit\n"
     ]
    },
    {
     "name": "stdin",
     "output_type": "stream",
     "text": [
      "Enter a number:  5\n"
     ]
    },
    {
     "name": "stdout",
     "output_type": "stream",
     "text": [
      "Exit....\n"
     ]
    }
   ],
   "source": [
    "class StackNode:\n",
    "    def __init__(self, NewData, link=None):\n",
    "        self.data = NewData\n",
    "        self.next = link\n",
    "\n",
    "class Stack:\n",
    "    def __init__(self):\n",
    "        self.top = None\n",
    "\n",
    "    def isempty(self):\n",
    "        return self.top is None\n",
    "\n",
    "    def peek(self):\n",
    "        if self.isempty():\n",
    "            return \"Stack is empty\"\n",
    "        return self.top.data\n",
    "\n",
    "    def pop(self):\n",
    "        if self.isempty():\n",
    "            return \"Stack Underflow\"\n",
    "        node = self.top\n",
    "        self.top = self.top.next\n",
    "        return node.data \n",
    "        \n",
    "    def push(self, NewData): \n",
    "        self.top = StackNode(NewData, self.top) \n",
    "         \n",
    "    def display(self):\n",
    "        if self.isempty():\n",
    "            print(\"Stack is empty\")\n",
    "            return\n",
    "        curNode = self.top\n",
    "        while curNode is not None:\n",
    "            print(curNode.data, end=\" -> \")  # Print in linked list style\n",
    "            curNode = curNode.next\n",
    "        print(\"None\") \n",
    "s = Stack()\n",
    "while(True):\n",
    "    print(\"Program to implement the stack using linked list\")\n",
    "    print(\"1.Push\")\n",
    "    print(\"2.pop\")\n",
    "    print(\"3.peek\")\n",
    "    print(\"4.Display\")\n",
    "    print(\"5.Exit\")\n",
    "    choice = int(input(\"Enter a number: \"))\n",
    "    if choice == 1:\n",
    "        num = int(input(\"Enter the data:\"))\n",
    "        s.push(num)\n",
    "    elif choice == 2:\n",
    "        if s.isempty():\n",
    "            print(\"Stack underflow\")\n",
    "        else:\n",
    "            num = s.pop()\n",
    "            print(\"The popped element\",num)\n",
    "    elif choice == 3:\n",
    "        if s.isempty():\n",
    "            print(\"Stack is empty\") \n",
    "        else:\n",
    "            num = s.peek()\n",
    "            print(\"The top element is:\", num) \n",
    "\n",
    "    elif choice == 4:\n",
    "        s.display()\n",
    "    elif choice == 5:\n",
    "        print(\"Exit....\")\n",
    "        break\n",
    "    else:\n",
    "        print(\"Invalid choice!! Enter a number between 1-5\")\n",
    "        continue"
   ]
  },
  {
   "cell_type": "code",
   "execution_count": null,
   "id": "56f25d6c-3a9b-460b-8218-d0240594a3a8",
   "metadata": {},
   "outputs": [],
   "source": []
  }
 ],
 "metadata": {
  "kernelspec": {
   "display_name": "Python 3 (ipykernel)",
   "language": "python",
   "name": "python3"
  },
  "language_info": {
   "codemirror_mode": {
    "name": "ipython",
    "version": 3
   },
   "file_extension": ".py",
   "mimetype": "text/x-python",
   "name": "python",
   "nbconvert_exporter": "python",
   "pygments_lexer": "ipython3",
   "version": "3.12.6"
  }
 },
 "nbformat": 4,
 "nbformat_minor": 5
}
