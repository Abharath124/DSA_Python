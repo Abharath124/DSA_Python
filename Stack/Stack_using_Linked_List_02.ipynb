{
 "cells": [
  {
   "cell_type": "code",
   "execution_count": 18,
   "id": "92c281b4-719b-4fb2-a5ce-360d0a17c46f",
   "metadata": {},
   "outputs": [
    {
     "name": "stdout",
     "output_type": "stream",
     "text": [
      "Enter the option:\n",
      "1-Push \n",
      " 2-pop \n",
      " 3-Display \n",
      " 4-exit\n"
     ]
    },
    {
     "name": "stdin",
     "output_type": "stream",
     "text": [
      " 1\n"
     ]
    },
    {
     "name": "stdout",
     "output_type": "stream",
     "text": [
      "Push\n",
      "----------------\n"
     ]
    },
    {
     "name": "stdin",
     "output_type": "stream",
     "text": [
      "Enter a element to be inserted into stack 10\n"
     ]
    },
    {
     "name": "stdout",
     "output_type": "stream",
     "text": [
      "Enter the option:\n",
      "1-Push \n",
      " 2-pop \n",
      " 3-Display \n",
      " 4-exit\n"
     ]
    },
    {
     "name": "stdin",
     "output_type": "stream",
     "text": [
      " 1\n"
     ]
    },
    {
     "name": "stdout",
     "output_type": "stream",
     "text": [
      "Push\n",
      "----------------\n"
     ]
    },
    {
     "name": "stdin",
     "output_type": "stream",
     "text": [
      "Enter a element to be inserted into stack 20\n"
     ]
    },
    {
     "name": "stdout",
     "output_type": "stream",
     "text": [
      "Enter the option:\n",
      "1-Push \n",
      " 2-pop \n",
      " 3-Display \n",
      " 4-exit\n"
     ]
    },
    {
     "name": "stdin",
     "output_type": "stream",
     "text": [
      " 1\n"
     ]
    },
    {
     "name": "stdout",
     "output_type": "stream",
     "text": [
      "Push\n",
      "----------------\n"
     ]
    },
    {
     "name": "stdin",
     "output_type": "stream",
     "text": [
      "Enter a element to be inserted into stack 30\n"
     ]
    },
    {
     "name": "stdout",
     "output_type": "stream",
     "text": [
      "Enter the option:\n",
      "1-Push \n",
      " 2-pop \n",
      " 3-Display \n",
      " 4-exit\n"
     ]
    },
    {
     "name": "stdin",
     "output_type": "stream",
     "text": [
      " 3\n"
     ]
    },
    {
     "name": "stdout",
     "output_type": "stream",
     "text": [
      "Display\n",
      "----------------\n",
      "Element of the stack are:\n",
      "30\n",
      "20\n",
      "10\n",
      "Top of the stack is 30\n",
      "-----------------------------\n",
      "Enter the option:\n",
      "1-Push \n",
      " 2-pop \n",
      " 3-Display \n",
      " 4-exit\n"
     ]
    },
    {
     "name": "stdin",
     "output_type": "stream",
     "text": [
      " 2\n"
     ]
    },
    {
     "name": "stdout",
     "output_type": "stream",
     "text": [
      "pop\n",
      "----------------\n",
      "Popped Element 30\n",
      "-----------------------------\n",
      "Enter the option:\n",
      "1-Push \n",
      " 2-pop \n",
      " 3-Display \n",
      " 4-exit\n"
     ]
    },
    {
     "name": "stdin",
     "output_type": "stream",
     "text": [
      " 4\n"
     ]
    },
    {
     "name": "stdout",
     "output_type": "stream",
     "text": [
      "Press any key to exit..\n"
     ]
    }
   ],
   "source": [
    "class Node:\n",
    "    def __init__(self,x):\n",
    "        self.data = x\n",
    "        self.next = None\n",
    "class stack:\n",
    "    def __init__(self):\n",
    "        self.top = None\n",
    "    def push(self):\n",
    "        x = int(input(\"Enter a element to be inserted into stack\"))\n",
    "        new = Node(x)\n",
    "        if self.top is None:\n",
    "            self.top = new\n",
    "            self.top.next = None\n",
    "        else:\n",
    "            new.next = self.top\n",
    "            self.top = new\n",
    "    def pop(self):\n",
    "        if self.top is None:\n",
    "            print(\"Stack is empty\")\n",
    "        elif self.top.next is None:\n",
    "            print(\"Popped Element\",self.top.data)\n",
    "            print('----------------------------------------------------------')\n",
    "            self.top = None\n",
    "        else:\n",
    "            temp = self.top\n",
    "            print(\"Popped Element\",self.top.data)\n",
    "            print('----------------------------------------------------------')\n",
    "            self.top = temp.next\n",
    "            temp = None\n",
    "    def display(self):\n",
    "        if self.top is None:\n",
    "            print(\"Stack is empty\")\n",
    "        else:\n",
    "            print(\"Element of the stack are:\")\n",
    "            temp = self.top\n",
    "            while temp:\n",
    "                print(temp.data)\n",
    "                temp = temp.next\n",
    "            print(\"Top of the stack is\",self.top.data)\n",
    "            print('----------------------------------------------------------')\n",
    "s = stack()\n",
    "while(1):\n",
    "    print(\"Enter the option:\")\n",
    "    print(\"1-Push \\n 2-pop \\n 3-Display \\n 4-exit\")\n",
    "    option = int(input())\n",
    "    if option == 1:\n",
    "        print(\"Push\")\n",
    "        print(\"---------------------------------------------\")\n",
    "        s.push()\n",
    "    elif option == 2:\n",
    "        print(\"pop\")\n",
    "        print(\"---------------------------------------------\")\n",
    "        s.pop()\n",
    "    elif option == 3:\n",
    "        print(\"Display\")\n",
    "        print(\"---------------------------------------------\")\n",
    "        s.display()\n",
    "    else:\n",
    "        print(\"Press any key to exit..\")\n",
    "        break"
   ]
  },
  {
   "cell_type": "code",
   "execution_count": null,
   "id": "ed698d4f-d86e-4678-8a90-1633fe0688bf",
   "metadata": {},
   "outputs": [],
   "source": []
  }
 ],
 "metadata": {
  "kernelspec": {
   "display_name": "Python 3 (ipykernel)",
   "language": "python",
   "name": "python3"
  },
  "language_info": {
   "codemirror_mode": {
    "name": "ipython",
    "version": 3
   },
   "file_extension": ".py",
   "mimetype": "text/x-python",
   "name": "python",
   "nbconvert_exporter": "python",
   "pygments_lexer": "ipython3",
   "version": "3.12.6"
  }
 },
 "nbformat": 4,
 "nbformat_minor": 5
}
