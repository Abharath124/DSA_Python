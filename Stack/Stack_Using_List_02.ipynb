{
 "cells": [
  {
   "cell_type": "code",
   "execution_count": 1,
   "id": "22eb9c4e-7805-4af4-916c-7569381ea4ac",
   "metadata": {},
   "outputs": [
    {
     "name": "stdout",
     "output_type": "stream",
     "text": [
      "Enter the operation from below \n",
      " 1-PUSH \n",
      " 2-POP \n",
      " 3-DISPLAY \n",
      " Enter any key to 'Exit'\n"
     ]
    },
    {
     "name": "stdin",
     "output_type": "stream",
     "text": [
      "Enter your choice:  1\n"
     ]
    },
    {
     "name": "stdout",
     "output_type": "stream",
     "text": [
      "Push Operation\n"
     ]
    },
    {
     "name": "stdin",
     "output_type": "stream",
     "text": [
      "Enter an element:  20\n"
     ]
    },
    {
     "name": "stdout",
     "output_type": "stream",
     "text": [
      "20 is inserted in the stack\n",
      "\n",
      "\n",
      "Enter the operation from below \n",
      " 1-PUSH \n",
      " 2-POP \n",
      " 3-DISPLAY \n",
      " Enter any key to 'Exit'\n"
     ]
    },
    {
     "name": "stdin",
     "output_type": "stream",
     "text": [
      "Enter your choice:  1\n"
     ]
    },
    {
     "name": "stdout",
     "output_type": "stream",
     "text": [
      "Push Operation\n"
     ]
    },
    {
     "name": "stdin",
     "output_type": "stream",
     "text": [
      "Enter an element:  30\n"
     ]
    },
    {
     "name": "stdout",
     "output_type": "stream",
     "text": [
      "30 is inserted in the stack\n",
      "\n",
      "\n",
      "Enter the operation from below \n",
      " 1-PUSH \n",
      " 2-POP \n",
      " 3-DISPLAY \n",
      " Enter any key to 'Exit'\n"
     ]
    },
    {
     "name": "stdin",
     "output_type": "stream",
     "text": [
      "Enter your choice:  1\n"
     ]
    },
    {
     "name": "stdout",
     "output_type": "stream",
     "text": [
      "Push Operation\n"
     ]
    },
    {
     "name": "stdin",
     "output_type": "stream",
     "text": [
      "Enter an element:  40\n"
     ]
    },
    {
     "name": "stdout",
     "output_type": "stream",
     "text": [
      "40 is inserted in the stack\n",
      "\n",
      "\n",
      "Enter the operation from below \n",
      " 1-PUSH \n",
      " 2-POP \n",
      " 3-DISPLAY \n",
      " Enter any key to 'Exit'\n"
     ]
    },
    {
     "name": "stdin",
     "output_type": "stream",
     "text": [
      "Enter your choice:  3\n"
     ]
    },
    {
     "name": "stdout",
     "output_type": "stream",
     "text": [
      "Display the Elements\n",
      "Element is stack \n",
      "40\n",
      "30\n",
      "20\n",
      "Top of the stack is  40\n",
      "\n",
      "Enter the operation from below \n",
      " 1-PUSH \n",
      " 2-POP \n",
      " 3-DISPLAY \n",
      " Enter any key to 'Exit'\n"
     ]
    },
    {
     "name": "stdin",
     "output_type": "stream",
     "text": [
      "Enter your choice:  3\n"
     ]
    },
    {
     "name": "stdout",
     "output_type": "stream",
     "text": [
      "Display the Elements\n",
      "Element is stack \n",
      "40\n",
      "30\n",
      "20\n",
      "Top of the stack is  40\n",
      "\n",
      "Enter the operation from below \n",
      " 1-PUSH \n",
      " 2-POP \n",
      " 3-DISPLAY \n",
      " Enter any key to 'Exit'\n"
     ]
    },
    {
     "name": "stdin",
     "output_type": "stream",
     "text": [
      "Enter your choice:  s\n"
     ]
    },
    {
     "name": "stdout",
     "output_type": "stream",
     "text": [
      "Exit..\n"
     ]
    }
   ],
   "source": [
    "def push():\n",
    "    n = int(input(\"Enter an element: \"))\n",
    "    stack.append(n)  # Always use append for stack behavior\n",
    "    print(n, \"is inserted in the stack\")\n",
    "    print()\n",
    "    print() # Give some space in ouput\n",
    "\n",
    "def pop():\n",
    "    if len(stack) == 0:\n",
    "        print(\"Stack is empty\")\n",
    "    else:\n",
    "        print(stack[-1], \"is deleted from stack\")\n",
    "        stack.pop()\n",
    "    print()\n",
    "\n",
    "def display():\n",
    "    if len(stack)==0:\n",
    "        print(\"stack is empty\")\n",
    "    else:\n",
    "        print(\"Element is stack \")\n",
    "        for i in reversed(stack):\n",
    "            print(i)\n",
    "        print(\"Top of the stack is \",stack[-1])\n",
    "        print()\n",
    "stack = []\n",
    "while True:\n",
    "    print(\"Enter the operation from below \\n 1-PUSH \\n 2-POP \\n 3-DISPLAY \\n Enter any key to 'Exit'\")\n",
    "    \n",
    "    st = input(\"Enter your choice: \")\n",
    "    if st == '1':\n",
    "        print(\"Push Operation\")\n",
    "        push()\n",
    "    elif st == '2':\n",
    "        print('POP Operation')\n",
    "        pop()\n",
    "    elif st == '3':\n",
    "        print(\"Display the Elements\")\n",
    "        display()\n",
    "    else:\n",
    "        print(\"Exit..\")\n",
    "        break"
   ]
  },
  {
   "cell_type": "code",
   "execution_count": null,
   "id": "73c0df35-06f3-4786-bfb0-d9318bfed036",
   "metadata": {},
   "outputs": [],
   "source": []
  }
 ],
 "metadata": {
  "kernelspec": {
   "display_name": "Python 3 (ipykernel)",
   "language": "python",
   "name": "python3"
  },
  "language_info": {
   "codemirror_mode": {
    "name": "ipython",
    "version": 3
   },
   "file_extension": ".py",
   "mimetype": "text/x-python",
   "name": "python",
   "nbconvert_exporter": "python",
   "pygments_lexer": "ipython3",
   "version": "3.12.6"
  }
 },
 "nbformat": 4,
 "nbformat_minor": 5
}
