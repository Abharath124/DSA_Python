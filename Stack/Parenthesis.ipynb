{
 "cells": [
  {
   "cell_type": "code",
   "execution_count": 7,
   "id": "d380a4bf-24bd-4aea-a769-a6d864a86c39",
   "metadata": {},
   "outputs": [
    {
     "name": "stdin",
     "output_type": "stream",
     "text": [
      "Enter a expression:  A+[b*{(c-d)/e}]\n"
     ]
    },
    {
     "name": "stdout",
     "output_type": "stream",
     "text": [
      "The expression is properly parenthesized..\n"
     ]
    }
   ],
   "source": [
    "#Q- Write a program to check whether an expression is properly parenthesized or not.\n",
    "def bal(exp):\n",
    "    lst = []\n",
    "    bra = {')':'(','}':'{',']':'['}\n",
    "\n",
    "    for i in exp:\n",
    "        if i in bra.values():  #Opening Brackets\n",
    "            lst.append(i)\n",
    "        elif i in bra.keys(): # Closing Brackets\n",
    "            if not lst or lst.pop() != bra[i]:\n",
    "                return False\n",
    "    return not lst\n",
    "\n",
    "exp = input(\"Enter a expression:\")\n",
    "if bal(exp):\n",
    "    print(\"The expression is properly parenthesized..\")\n",
    "else:\n",
    "    print(\"The expression is not properly parenthesized..\")"
   ]
  },
  {
   "cell_type": "markdown",
   "id": "5de3feb6-e764-47e8-8067-95b06d48be8a",
   "metadata": {},
   "source": [
    "##  <b>Algorithm </b>"
   ]
  },
  {
   "cell_type": "markdown",
   "id": "60a7e8a2-3f4b-4551-bcd2-b31b019b11c9",
   "metadata": {},
   "source": [
    "### Key idea"
   ]
  },
  {
   "cell_type": "markdown",
   "id": "be767568-69d6-47f7-98ad-2190df2b3fd9",
   "metadata": {},
   "source": [
    "* Intialize the input as string\n",
    "* <span style=\"color: blue;\"><b>PUSH</b></span>\n",
    "\n",
    "* Push open parenthesis into the stack\n",
    "* <span style=\"color: blue;\"><b>POP</b></span>\n",
    "* When input is closed parenthesis\n",
    "* pop and compare\n",
    "* if same continue\n",
    "* else return 0\n",
    "4. the end, if all okay -> Balance else Not Balanced"
   ]
  },
  {
   "cell_type": "markdown",
   "id": "c4794891-4300-4d28-a9df-55ac68cbb45f",
   "metadata": {},
   "source": [
    "# *<b>Using Linked List</b>*"
   ]
  },
  {
   "cell_type": "code",
   "execution_count": 54,
   "id": "dc7e78e1-ad05-4315-b0dd-00c6025a5039",
   "metadata": {},
   "outputs": [
    {
     "name": "stdout",
     "output_type": "stream",
     "text": [
      "The expression is not properly parenthesized..\n",
      "Program to implement the stack using linked list\n",
      "1.Push\n",
      "2.pop\n",
      "3.peek\n",
      "4.Display\n",
      "5.Exit\n",
      "6.Bal_Parenthesis\n"
     ]
    },
    {
     "name": "stdin",
     "output_type": "stream",
     "text": [
      "Enter a number:  6\n",
      "Enter any brackets: ()\n"
     ]
    },
    {
     "name": "stdout",
     "output_type": "stream",
     "text": [
      "Program to implement the stack using linked list\n",
      "1.Push\n",
      "2.pop\n",
      "3.peek\n",
      "4.Display\n",
      "5.Exit\n",
      "6.Bal_Parenthesis\n"
     ]
    },
    {
     "name": "stdin",
     "output_type": "stream",
     "text": [
      "Enter a number:  5\n"
     ]
    },
    {
     "name": "stdout",
     "output_type": "stream",
     "text": [
      "Exit....\n"
     ]
    }
   ],
   "source": [
    "class Node:\n",
    "    def __init__(self, NewData , link):\n",
    "        self.data = data\n",
    "        self.next = link\n",
    "\n",
    "class Stack:\n",
    "    def __init__(self):\n",
    "        self.top = None\n",
    "\n",
    "    def isempty(self):\n",
    "        return self.top is None\n",
    "\n",
    "    def peek(self):\n",
    "        if self.isempty():\n",
    "            return \"Stack is empty\"\n",
    "        return self.top.data\n",
    "\n",
    "    def pop(self):\n",
    "        if self.isempty():\n",
    "            return \"Stack Underflow\"\n",
    "        node = self.top\n",
    "        self.top = self.top.next\n",
    "        return node.data \n",
    "        \n",
    "    def push(self, NewData): \n",
    "        self.top = StackNode(NewData, self.top) \n",
    "\n",
    "    #Q- Write a program to check whether an expression is properly parenthesized or not.\n",
    "    def bal(exp):\n",
    "        lst = []\n",
    "        bra = {')':'(','}':'{',']':'['}\n",
    "\n",
    "        for i in exp:\n",
    "            if i in bra.values():  #Opening Brackets\n",
    "                lst.append(i)\n",
    "            elif i in bra.keys(): # Closing Brackets\n",
    "                if not lst or lst.pop() != bra[i]:\n",
    "                    return False\n",
    "        return not lst\n",
    "\n",
    "    # exp = input(\"Enter a expression:\")\n",
    "    if bal(exp):\n",
    "        print(\"The expression is properly parenthesized..\")\n",
    "    else:\n",
    "        print(\"The expression is not properly parenthesized..\") \n",
    "         \n",
    "    def display(self):\n",
    "        if self.isempty():\n",
    "            print(\"Stack is empty\")\n",
    "            return\n",
    "        curNode = self.top\n",
    "        while curNode is not None:\n",
    "            print(curNode.data, end=\" -> \")  # Print in linked list style\n",
    "            curNode = curNode.next\n",
    "        print(\"None\") \n",
    "\n",
    "s = Stack()\n",
    "while(True):\n",
    "    print(\"Program to implement the stack using linked list\")\n",
    "    print(\"1.Push\")\n",
    "    print(\"2.pop\")\n",
    "    print(\"3.peek\")\n",
    "    print(\"4.Display\")\n",
    "    print(\"5.Exit\")\n",
    "    print(\"6.Bal_Parenthesis\")\n",
    "    choice = int(input(\"Enter a number: \"))\n",
    "    if choice == 1:\n",
    "        num = int(input(\"Enter the data:\"))\n",
    "        s.push(num)\n",
    "    elif choice == 2:\n",
    "        if s.isempty():\n",
    "            print(\"Stack underflow\")\n",
    "        else:\n",
    "            num = s.pop()\n",
    "            print(\"The popped element\",num)\n",
    "    elif choice == 3:\n",
    "        if s.isempty():\n",
    "            print(\"Stack is empty\") \n",
    "        else:\n",
    "            num = s.peek()\n",
    "            print(\"The top element is:\", num) \n",
    "\n",
    "    elif choice == 4:\n",
    "        s.display()\n",
    "    elif choice == 5:\n",
    "        print(\"Exit....\")\n",
    "        break\n",
    "    elif choice == 6:\n",
    "        if s.isempty():\n",
    "            exp = input(\"Enter any brackets:\")\n",
    "        else:\n",
    "            num = s.bal()\n",
    "            print(\"This parenthesis is \",num)\n",
    "    else:\n",
    "        print(\"Invalid choice!! Enter a number between 1-5\")\n",
    "        continue"
   ]
  },
  {
   "cell_type": "code",
   "execution_count": null,
   "id": "7f56b171-3281-4d05-985a-9be72919be77",
   "metadata": {},
   "outputs": [],
   "source": []
  }
 ],
 "metadata": {
  "kernelspec": {
   "display_name": "Python 3 (ipykernel)",
   "language": "python",
   "name": "python3"
  },
  "language_info": {
   "codemirror_mode": {
    "name": "ipython",
    "version": 3
   },
   "file_extension": ".py",
   "mimetype": "text/x-python",
   "name": "python",
   "nbconvert_exporter": "python",
   "pygments_lexer": "ipython3",
   "version": "3.12.6"
  }
 },
 "nbformat": 4,
 "nbformat_minor": 5
}
