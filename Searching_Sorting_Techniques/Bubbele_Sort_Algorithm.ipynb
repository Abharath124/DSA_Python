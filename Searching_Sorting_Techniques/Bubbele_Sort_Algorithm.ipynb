{
 "cells": [
  {
   "cell_type": "markdown",
   "id": "feb09046-a71b-425c-bdec-044033a5af88",
   "metadata": {},
   "source": [
    "Bubble Sort"
   ]
  },
  {
   "cell_type": "markdown",
   "id": "5e3f9470-92b9-47dc-8700-fe4a846bcc3d",
   "metadata": {},
   "source": [
    "Bubble sort means the Adjacent element are compared"
   ]
  },
  {
   "cell_type": "code",
   "execution_count": 29,
   "id": "b7cd459e-d728-4ae7-9749-18ae92feb1fa",
   "metadata": {},
   "outputs": [
    {
     "name": "stdout",
     "output_type": "stream",
     "text": [
      "[11, 12, 22, 25, 64]\n"
     ]
    }
   ],
   "source": [
    "arr = [64, 25, 12, 22, 11]\n",
    "a = sorted(arr)\n",
    "print(a)"
   ]
  },
  {
   "cell_type": "markdown",
   "id": "b404151d-d12a-46aa-b754-e595a9e0369a",
   "metadata": {},
   "source": [
    "KEY IDEA"
   ]
  },
  {
   "cell_type": "raw",
   "id": "c31381a6-070f-437a-9bbe-31952c32460b",
   "metadata": {},
   "source": [
    "1) size = len of list\n",
    "2) for i =0 to size-1 , then\n",
    "    for j=0 to size-1 , then\n",
    "        if list[j] > list[j+1] , then\n",
    "            set temp = list[j]\n",
    "            set list[j] = list[j+1]\n",
    "            set list[i+1] = temp\n",
    "3) Exit"
   ]
  },
  {
   "cell_type": "code",
   "execution_count": 44,
   "id": "41152c03-e57a-4e35-bdaa-0879b95c1c3d",
   "metadata": {},
   "outputs": [
    {
     "name": "stdout",
     "output_type": "stream",
     "text": [
      "[11, 12, 22, 25, 64]\n"
     ]
    }
   ],
   "source": [
    "def bubble_sort(lst):\n",
    "    size = len(lst)\n",
    "    for i in range(size - 1):\n",
    "        for j in range(size - i - 1):\n",
    "            if lst[j] > lst[j+1]:\n",
    "                lst[j] , lst[j+1] = lst[j+1] , lst[j]\n",
    "    return lst\n",
    "lst =  [64, 25, 12, 22, 11]\n",
    "print(bubble_sort(lst))"
   ]
  },
  {
   "cell_type": "code",
   "execution_count": 56,
   "id": "c227501e-beae-402d-996c-8499f54c6022",
   "metadata": {},
   "outputs": [
    {
     "ename": "IndentationError",
     "evalue": "unindent does not match any outer indentation level (<string>, line 6)",
     "output_type": "error",
     "traceback": [
      "\u001b[1;36m  File \u001b[1;32m<string>:6\u001b[1;36m\u001b[0m\n\u001b[1;33m    for j in range(i+1, temp):\u001b[0m\n\u001b[1;37m                              ^\u001b[0m\n\u001b[1;31mIndentationError\u001b[0m\u001b[1;31m:\u001b[0m unindent does not match any outer indentation level\n"
     ]
    }
   ],
   "source": [
    "def selection_sort(arr):\n",
    "    temp = len(arr)\n",
    "    for i in range(temp-1):\n",
    "            pos = i\n",
    "            minm = arr[i]\n",
    "        for j in range(i+1, temp):\n",
    "            if arr[j] < minm:\n",
    "                minm = arr[j]\n",
    "        if i != pos:\n",
    "            arr[i] , arr[min_index] = arr[minm_index] , arr[i]\n",
    "            arr[pos] = temp\n",
    "arr = [11, 12, 22, 25, 64]\n",
    "print(selection_sort(arr))            "
   ]
  },
  {
   "cell_type": "code",
   "execution_count": 58,
   "id": "53671728-d579-4923-9c19-2b31230b1fcd",
   "metadata": {},
   "outputs": [
    {
     "name": "stdout",
     "output_type": "stream",
     "text": [
      "[11, 12, 22, 25, 64]\n"
     ]
    }
   ],
   "source": [
    "def selection_sort(arr):\n",
    "    temp = len(arr)  # Get the length of the list\n",
    "    \n",
    "    for i in range(temp - 1):  # Outer loop\n",
    "        min_index = i  # Track the index of the minimum value\n",
    "        \n",
    "        for j in range(i + 1, temp):  # Inner loop to find the minimum element\n",
    "            if arr[j] < arr[min_index]:  # If a smaller element is found\n",
    "                min_index = j  # Update the index of the minimum element\n",
    "        \n",
    "        # Swap only if the minimum element is not already in the correct position\n",
    "        if i != min_index:\n",
    "            arr[i], arr[min_index] = arr[min_index], arr[i]  # Swap\n",
    "    \n",
    "    return arr  # Return sorted list\n",
    "\n",
    "# Example usage\n",
    "arr = [64, 25, 12, 22, 11]\n",
    "print(selection_sort(arr))  # Output: [11, 12, 22, 25, 64]\n"
   ]
  },
  {
   "cell_type": "code",
   "execution_count": null,
   "id": "06a94dd5-246c-45fb-bd06-4d034356e2d0",
   "metadata": {},
   "outputs": [],
   "source": []
  }
 ],
 "metadata": {
  "kernelspec": {
   "display_name": "Python 3 (ipykernel)",
   "language": "python",
   "name": "python3"
  },
  "language_info": {
   "codemirror_mode": {
    "name": "ipython",
    "version": 3
   },
   "file_extension": ".py",
   "mimetype": "text/x-python",
   "name": "python",
   "nbconvert_exporter": "python",
   "pygments_lexer": "ipython3",
   "version": "3.12.6"
  }
 },
 "nbformat": 4,
 "nbformat_minor": 5
}
