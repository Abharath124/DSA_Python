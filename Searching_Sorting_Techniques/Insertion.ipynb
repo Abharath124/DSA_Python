{
 "cells": [
  {
   "cell_type": "markdown",
   "id": "3f1b957f-343d-4baf-81b4-c49cbfd4ce64",
   "metadata": {},
   "source": [
    "Insertion Sort Algorithm"
   ]
  },
  {
   "cell_type": "markdown",
   "id": "368c69c5-318b-44ad-8435-7ade6aecb59e",
   "metadata": {},
   "source": [
    "## Algorithm "
   ]
  },
  {
   "cell_type": "raw",
   "id": "77c094ce-be2a-4a58-ae90-e40d4747698d",
   "metadata": {},
   "source": [
    "insertion(list):\n",
    "1) size of the (list)\n",
    "2) for i = 1 to size-1\n",
    "    temp = list[i]\n",
    "    j = i-1\n",
    "    while temp<list[j] and j>=0 \n",
    "            list[j+1] = list[j]\n",
    "            j=j-1\n",
    "    list[j+1] = temp\n",
    "3) exit"
   ]
  },
  {
   "cell_type": "code",
   "execution_count": 22,
   "id": "b080013e-b982-4906-b435-639abb2a66ae",
   "metadata": {},
   "outputs": [
    {
     "name": "stdin",
     "output_type": "stream",
     "text": [
      "Enter numbers separated by space:  5 3 8 4 2\n"
     ]
    },
    {
     "name": "stdout",
     "output_type": "stream",
     "text": [
      "[2, 3, 4, 5, 8]\n"
     ]
    }
   ],
   "source": [
    "def insert(lst):\n",
    "    size = len(lst)\n",
    "    for i in range(1,size):\n",
    "        temp = lst[i]\n",
    "        j=i-1\n",
    "        while j >= 0 and temp < lst[j]:\n",
    "            lst[j+1] = lst[j]\n",
    "            j -= 1\n",
    "        lst[j + 1] = temp\n",
    "    return lst\n",
    "lst = list(map(int, input(\"Enter numbers separated by space: \").split()))\n",
    "# lst = [5,3,8,4,2]\n",
    "print(insert(lst))"
   ]
  },
  {
   "cell_type": "code",
   "execution_count": null,
   "id": "13beadd6-d537-4c78-9d35-57351f0e7f27",
   "metadata": {},
   "outputs": [],
   "source": []
  },
  {
   "cell_type": "code",
   "execution_count": null,
   "id": "a1db28a2-970f-4f03-8fb0-08f5fd1bb05c",
   "metadata": {},
   "outputs": [],
   "source": []
  }
 ],
 "metadata": {
  "kernelspec": {
   "display_name": "Python 3 (ipykernel)",
   "language": "python",
   "name": "python3"
  },
  "language_info": {
   "codemirror_mode": {
    "name": "ipython",
    "version": 3
   },
   "file_extension": ".py",
   "mimetype": "text/x-python",
   "name": "python",
   "nbconvert_exporter": "python",
   "pygments_lexer": "ipython3",
   "version": "3.12.6"
  }
 },
 "nbformat": 4,
 "nbformat_minor": 5
}
