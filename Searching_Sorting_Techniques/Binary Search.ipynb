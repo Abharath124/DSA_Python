{
 "cells": [
  {
   "cell_type": "markdown",
   "id": "3379189c-4892-4385-a0c5-e94863ccfc0b",
   "metadata": {},
   "source": [
    "# Binary Search "
   ]
  },
  {
   "cell_type": "raw",
   "id": "63cef5fb-47fc-4d6b-bb1e-f929366cca93",
   "metadata": {},
   "source": [
    "Binary_Search(list,key_value):\n",
    "1) set low = 0\n",
    "2) set hight = lenght of the list -1 \n",
    "3) while low < high:\n",
    "    mid = (low+high) / 2\n",
    "    if key_value == list[mid] , then\n",
    "        return mid\n",
    "    elif key_value < list[mid], the\n",
    "        high = mid +1\n",
    "    else:\n",
    "        low = mid -1\n",
    "4) return -1"
   ]
  },
  {
   "cell_type": "code",
   "execution_count": null,
   "id": "752f0d6c-5ed4-419a-bdd4-f3f65c66b1a4",
   "metadata": {},
   "outputs": [],
   "source": [
    "def Binary_search(lst,key_value):\n",
    "    high = len(lst) - 1\n",
    "    low = 0\n",
    "    while low <= high:\n",
    "        mid = (low+high) // 2\n",
    "        if key_value == lst[mid]:\n",
    "            return mid\n",
    "        elif key_value < lst[mid]:\n",
    "            high = mid +1\n",
    "        else:\n",
    "            low = mid + 1\n",
    "    return -1\n",
    "lst = list(map(int, input(\"Enter sorted numbers separated by spaces: \").split()))\n",
    "key_value = int(input(\"Enter a number key_Value:\"))\n",
    "resu = Binary_search(lst,key_value)\n",
    "if resu != -1:\n",
    "    print(\"Element not found\",resu)\n",
    "else:\n",
    "    print(\"Element not found\")"
   ]
  },
  {
   "cell_type": "code",
   "execution_count": null,
   "id": "81e9a7bb-11fe-4313-8ee2-8fb9531f75d8",
   "metadata": {},
   "outputs": [],
   "source": []
  },
  {
   "cell_type": "code",
   "execution_count": null,
   "id": "88b26ebe-ffab-4813-af33-06e004da799e",
   "metadata": {},
   "outputs": [],
   "source": []
  }
 ],
 "metadata": {
  "kernelspec": {
   "display_name": "Python 3 (ipykernel)",
   "language": "python",
   "name": "python3"
  },
  "language_info": {
   "codemirror_mode": {
    "name": "ipython",
    "version": 3
   },
   "file_extension": ".py",
   "mimetype": "text/x-python",
   "name": "python",
   "nbconvert_exporter": "python",
   "pygments_lexer": "ipython3",
   "version": "3.12.6"
  }
 },
 "nbformat": 4,
 "nbformat_minor": 5
}
