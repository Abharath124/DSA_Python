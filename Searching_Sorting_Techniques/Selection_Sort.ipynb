{
 "cells": [
  {
   "cell_type": "markdown",
   "id": "eca595b0-fe74-4195-8ef9-44a1d70da31f",
   "metadata": {},
   "source": [
    "# Selection Sort"
   ]
  },
  {
   "cell_type": "markdown",
   "id": "0ab35512-2227-477e-8566-30e2ebd778bb",
   "metadata": {},
   "source": [
    "KEY IDEA"
   ]
  },
  {
   "cell_type": "raw",
   "id": "53ca26ca-4700-4461-86c7-2191150b9738",
   "metadata": {},
   "source": [
    "1) size = len of list\n",
    "2) for i = 0 to size-1 , do\n",
    "    min = list[i]\n",
    "    posn = i\n",
    "    for j = 0 to range(i+1,size),do\n",
    "        if list[j]< min\n",
    "            min = list[j]\n",
    "    if i!= posn,then\n",
    "        set temp = list[i]\n",
    "        set list[i] = list[posn]\n",
    "        set list[posn] = temp\n",
    "3) Exit"
   ]
  },
  {
   "cell_type": "code",
   "execution_count": null,
   "id": "7c55ce62-3b2f-4b9f-a4ad-f1430354b773",
   "metadata": {},
   "outputs": [],
   "source": [
    "def selection_sort(arr):\n",
    "    temp = len(arr)\n",
    "    for i in range(temp-1):\n",
    "            pos = i\n",
    "            minm = list[i]\n",
    "        for j in range(i+1, temo):\n",
    "            if temp[j] < min:\n",
    "                minm = arr[j]\n",
    "        if i != pos:\n",
    "            temp = arr[i]\n",
    "            temp = arr[i] = arr[pos]\n",
    "            arr[pos] = temp\n",
    "arr = [11, 12, 22, 25, 64]\n",
    "print(selection_sort(arr))            "
   ]
  }
 ],
 "metadata": {
  "kernelspec": {
   "display_name": "Python 3 (ipykernel)",
   "language": "python",
   "name": "python3"
  },
  "language_info": {
   "codemirror_mode": {
    "name": "ipython",
    "version": 3
   },
   "file_extension": ".py",
   "mimetype": "text/x-python",
   "name": "python",
   "nbconvert_exporter": "python",
   "pygments_lexer": "ipython3",
   "version": "3.12.6"
  }
 },
 "nbformat": 4,
 "nbformat_minor": 5
}
