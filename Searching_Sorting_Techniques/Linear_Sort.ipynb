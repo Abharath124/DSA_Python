{
 "cells": [
  {
   "cell_type": "markdown",
   "id": "8744ede0-895c-4af2-9762-77dabad14f33",
   "metadata": {},
   "source": [
    "# Linear Searching sort"
   ]
  },
  {
   "cell_type": "raw",
   "id": "32159012-230b-4920-b59d-2c6fd36f2019",
   "metadata": {},
   "source": [
    "1) intialize the size of an array to 'n'\n",
    "2)scan the array of 'n' integers\n",
    "3)traverse linearly ,index 0-->n\n",
    "4)compare the search element with all the element in an array\n",
    "5)if search element ==array[i]\n",
    "6)location is i+1"
   ]
  },
  {
   "cell_type": "code",
   "execution_count": null,
   "id": "bb26b491-f4f3-4d0a-81f2-cf2e686660dc",
   "metadata": {},
   "outputs": [],
   "source": [
    "def linear_search(list,key):\n",
    "    size=len(list)\n",
    "    index=0\n",
    "    while index<size:\n",
    "        if list[index]==key:\n",
    "            return index\n",
    "        index=index+1\n",
    "        return -1\n",
    "n=int(input('Enter number of elements:'))\n",
    "lst=[]\n",
    "for i in range(n):\n",
    "    num=int(input(\"Enter elements:\"))\n",
    "    lst.append(num)\n",
    "    key=int(input(\"Enter the searching elements:\"))\n",
    "    position=linear_search(lst,key)\n",
    "    if position==-1:\n",
    "        print(\"Element not found\")\n",
    "    else:\n",
    "        print('{} Element found at position {}'.format(key,position))"
   ]
  },
  {
   "cell_type": "code",
   "execution_count": null,
   "id": "6b0b778b-0f20-4dfc-aa3d-b88b5bda7192",
   "metadata": {},
   "outputs": [],
   "source": []
  }
 ],
 "metadata": {
  "kernelspec": {
   "display_name": "Python 3 (ipykernel)",
   "language": "python",
   "name": "python3"
  },
  "language_info": {
   "codemirror_mode": {
    "name": "ipython",
    "version": 3
   },
   "file_extension": ".py",
   "mimetype": "text/x-python",
   "name": "python",
   "nbconvert_exporter": "python",
   "pygments_lexer": "ipython3",
   "version": "3.12.6"
  }
 },
 "nbformat": 4,
 "nbformat_minor": 5
}
