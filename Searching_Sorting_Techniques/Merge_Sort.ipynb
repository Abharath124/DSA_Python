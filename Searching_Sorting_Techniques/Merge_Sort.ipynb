{
 "cells": [
  {
   "cell_type": "markdown",
   "id": "43822f41-e552-4287-95dc-8e0fd4ea93e9",
   "metadata": {},
   "source": [
    "## Merge Sort"
   ]
  },
  {
   "cell_type": "markdown",
   "id": "71388518-470c-4283-9e96-62efee2920ae",
   "metadata": {},
   "source": [
    "Both Merge Sort and Quick Sort are efficient sorting algorithms, but they handle the division of elements differently:"
   ]
  },
  {
   "cell_type": "raw",
   "id": "ead2de78-9dab-42cf-8917-3a1817a7cce6",
   "metadata": {},
   "source": [
    "1) def merge_sort_algo(arr,left,right):\n",
    "    if left < right \n",
    "        set mod = (left+right) /2\n",
    "        call merge_sort(arr,left,mid)\n",
    "        call merge_sort(arr,mid+1,right) \n",
    "        merg_list(arr,left,mid,mid+1,right)\n",
    "    end\n",
    "-----------------------------------------------------------------------------------------------------------------------------------------------------------\n",
    "merge_list(arr,left,mid,mid+1,right):\n",
    "    1) create an empty list named temp\n",
    "    2) set i = left\n",
    "    3) set j = right\n",
    "    4) while i <= leftend and j <= rightend:\n",
    "            a) if arr[i] < arr[j]\n",
    "                append arr[i] , then temp\n",
    "            b) else:\n",
    "                append arr[j]\n",
    "                set j = j+1\n",
    "    5) while i<= leftend , do\n",
    "        append arr[i] into temp\n",
    "        set i=i+1\n",
    "    6) while j<=rightend , do\n",
    "            append arr[j] into temp\n",
    "            set j = j+1\n",
    "    7) set j = 0\n",
    "    8) for i = lst to eight end \n",
    "        a) set arr[i] =ntemp[j]\n",
    "        b) set j=j+1\n",
    "    9) end\n",
    "-----------------------------------------------------------------------------------------------------------------------------------------------------------\n",
    "Time Complexity : worste case = n (n log2(n))\n"
   ]
  },
  {
   "cell_type": "code",
   "execution_count": 67,
   "id": "40c2c280-a241-4174-bf7b-82a2f6ac10d8",
   "metadata": {},
   "outputs": [
    {
     "name": "stdout",
     "output_type": "stream",
     "text": [
      "[5, 3, 8, 1, 2, 7]\n",
      "[1, 2, 3, 5, 7, 8]\n"
     ]
    }
   ],
   "source": [
    "def merge_sort(arr, left, right):\n",
    "    if left < right:\n",
    "        mid = (left+right) //2\n",
    "        merge_sort(arr,left,mid)\n",
    "        merge_sort(arr,mid+1,right)\n",
    "        merge_list(arr, left, mid, right)\n",
    "    return arr\n",
    "def merge_list(arr, left, mid, right):\n",
    "    lst = []\n",
    "    i = left\n",
    "    j = mid+1\n",
    "    while i<=mid and j<=right:\n",
    "        if arr[i] <arr[j]:\n",
    "            lst.append(arr[i])\n",
    "            i+=1\n",
    "        else:\n",
    "            lst.append(arr[j])\n",
    "            j += 1\n",
    "    while i<=mid:\n",
    "        lst.append(arr[i])\n",
    "        i+=1\n",
    "    while j<=right:\n",
    "        lst.append(arr[j])\n",
    "        j+=1\n",
    "    for k in range(len(lst)):\n",
    "        arr[left + k] = lst[k] \n",
    "    \n",
    "arr = [5, 3, 8, 1, 2, 7]\n",
    "print(arr)\n",
    "merge_sort(arr,0,len(arr)-1)\n",
    "print(arr)"
   ]
  },
  {
   "cell_type": "code",
   "execution_count": null,
   "id": "50ee88d9-94d8-41cc-82d8-3116a7856f84",
   "metadata": {},
   "outputs": [],
   "source": []
  },
  {
   "cell_type": "code",
   "execution_count": null,
   "id": "06ac769f-57a5-4692-951a-9690b5818e62",
   "metadata": {},
   "outputs": [],
   "source": []
  },
  {
   "cell_type": "code",
   "execution_count": null,
   "id": "5ad09966-f389-4882-8fa2-9f2c289ffe69",
   "metadata": {},
   "outputs": [],
   "source": []
  },
  {
   "cell_type": "code",
   "execution_count": null,
   "id": "fb7d5d78-d30c-4125-bbdf-3a5560c5ba73",
   "metadata": {},
   "outputs": [],
   "source": []
  },
  {
   "cell_type": "code",
   "execution_count": null,
   "id": "ac2754e2-9492-4b53-84ef-f55a55116cc5",
   "metadata": {},
   "outputs": [],
   "source": []
  }
 ],
 "metadata": {
  "kernelspec": {
   "display_name": "Python 3 (ipykernel)",
   "language": "python",
   "name": "python3"
  },
  "language_info": {
   "codemirror_mode": {
    "name": "ipython",
    "version": 3
   },
   "file_extension": ".py",
   "mimetype": "text/x-python",
   "name": "python",
   "nbconvert_exporter": "python",
   "pygments_lexer": "ipython3",
   "version": "3.12.6"
  }
 },
 "nbformat": 4,
 "nbformat_minor": 5
}
