{
 "cells": [
  {
   "cell_type": "code",
   "execution_count": 1,
   "id": "0c5ea757-d6e2-42bd-a041-0a995db0c4bd",
   "metadata": {},
   "outputs": [
    {
     "ename": "SyntaxError",
     "evalue": "cannot assign to attribute here. Maybe you meant '==' instead of '='? (1427356023.py, line 27)",
     "output_type": "error",
     "traceback": [
      "\u001b[1;36m  Cell \u001b[1;32mIn[1], line 27\u001b[1;36m\u001b[0m\n\u001b[1;33m    if self.head.previous = newNode:\u001b[0m\n\u001b[1;37m       ^\u001b[0m\n\u001b[1;31mSyntaxError\u001b[0m\u001b[1;31m:\u001b[0m cannot assign to attribute here. Maybe you meant '==' instead of '='?\n"
     ]
    }
   ],
   "source": [
    "class ClassName:\n",
    "    def __init__(self,newData=None,plink=None,nlink=None):\n",
    "        self.dara = newData\n",
    "        self.previous = plink\n",
    "        self.next = nlink\n",
    "        \n",
    "class DoublyLinkedList:\n",
    "    def __init__(self):\n",
    "        self.Head = None\n",
    "    def insert_degin(Self,newData):\n",
    "        newNode = DNode(newData,None,self.Head)\n",
    "        if self.Head is not None:\n",
    "            self,Head.previous = newNode\n",
    "        self.Head = newNode\n",
    "    def insert_end(self,newData):\n",
    "        newNode = DNode(newData)\n",
    "        if self.Head is None:\n",
    "            self.Head = newNode   \n",
    "        else:\n",
    "            curNode =self.Head\n",
    "            while curNode.next is not None:\n",
    "                curNode = curNode.next\n",
    "            curNode.next = newNode\n",
    "            newNode.previous = curNod\n",
    "    def insert_nth(self,newData,location):\n",
    "        newNode = DNode(newData)\n",
    "        if self.head.previous = newNode:\n",
    "            self.Head.previous = newNode\n",
    "        newNode.next = self.Head\n",
    "        self.Head = newNode\n",
    "        else:\n",
    "            curNode = self.Head\n",
    "            c=1\n",
    "            while c<=location-1 and curNode.next is not None:\n",
    "                c+=1\n",
    "                curNode = curNode.next\n",
    "            newNode.next y= curNode.next\n",
    "            newNode.previous = curNode\n",
    "            if ciurNode.next != None:\n",
    "                curNode.next.previous = newNode\n",
    "            curNode.next = newNode\n",
    "\n",
    "        j"
   ]
  },
  {
   "cell_type": "code",
   "execution_count": null,
   "id": "dd63d804-2cd6-4e10-ba05-09662ca38d97",
   "metadata": {},
   "outputs": [],
   "source": []
  }
 ],
 "metadata": {
  "kernelspec": {
   "display_name": "Python 3 (ipykernel)",
   "language": "python",
   "name": "python3"
  },
  "language_info": {
   "codemirror_mode": {
    "name": "ipython",
    "version": 3
   },
   "file_extension": ".py",
   "mimetype": "text/x-python",
   "name": "python",
   "nbconvert_exporter": "python",
   "pygments_lexer": "ipython3",
   "version": "3.12.6"
  }
 },
 "nbformat": 4,
 "nbformat_minor": 5
}
